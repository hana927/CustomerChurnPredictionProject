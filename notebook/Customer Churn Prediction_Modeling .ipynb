{
 "cells": [
  {
   "cell_type": "markdown",
   "id": "9586e9aa",
   "metadata": {},
   "source": [
    "## Import Modules"
   ]
  },
  {
   "cell_type": "code",
   "execution_count": 1,
   "id": "c46a3b25",
   "metadata": {},
   "outputs": [],
   "source": [
    "import pandas as pd\n",
    "import numpy as np\n",
    "import matplotlib.pyplot as plt\n",
    "import seaborn as sns\n",
    "\n",
    "from imblearn.over_sampling import SMOTE\n",
    "from imblearn.pipeline import Pipeline\n",
    "\n",
    "from sklearn.preprocessing import StandardScaler,OneHotEncoder\n",
    "from sklearn.compose import ColumnTransformer, make_column_transformer, make_column_selector\n",
    "from sklearn.model_selection import train_test_split\n",
    "\n",
    "from sklearn.linear_model import LogisticRegression\n",
    "from sklearn.neighbors import KNeighborsClassifier\n",
    "from sklearn.ensemble import RandomForestClassifier\n",
    "from sklearn.svm import SVC\n",
    "from xgboost import XGBClassifier\n",
    "\n",
    "from sklearn.model_selection import cross_val_score\n",
    "from sklearn.metrics import accuracy_score\n",
    "from sklearn.metrics import classification_report\n",
    "\n",
    "from skopt import BayesSearchCV\n",
    "\n",
    "from library.sb_utils import save_file"
   ]
  },
  {
   "cell_type": "markdown",
   "id": "0c549b3e",
   "metadata": {},
   "source": [
    "## Load Data"
   ]
  },
  {
   "cell_type": "code",
   "execution_count": 2,
   "id": "ffab5da4",
   "metadata": {},
   "outputs": [],
   "source": [
    "bank_data=pd.read_csv('../data/bank_data_features.csv')"
   ]
  },
  {
   "cell_type": "code",
   "execution_count": 3,
   "id": "e00b04e9",
   "metadata": {},
   "outputs": [
    {
     "data": {
      "text/html": [
       "<div>\n",
       "<style scoped>\n",
       "    .dataframe tbody tr th:only-of-type {\n",
       "        vertical-align: middle;\n",
       "    }\n",
       "\n",
       "    .dataframe tbody tr th {\n",
       "        vertical-align: top;\n",
       "    }\n",
       "\n",
       "    .dataframe thead th {\n",
       "        text-align: right;\n",
       "    }\n",
       "</style>\n",
       "<table border=\"1\" class=\"dataframe\">\n",
       "  <thead>\n",
       "    <tr style=\"text-align: right;\">\n",
       "      <th></th>\n",
       "      <th>Attrition_Flag</th>\n",
       "      <th>Customer_Age</th>\n",
       "      <th>Gender</th>\n",
       "      <th>Dependent_count</th>\n",
       "      <th>Education_Level</th>\n",
       "      <th>Marital_Status</th>\n",
       "      <th>Income_Category</th>\n",
       "      <th>Card_Category</th>\n",
       "      <th>Months_on_book</th>\n",
       "      <th>Total_Relationship_Count</th>\n",
       "      <th>Months_Inactive_12_mon</th>\n",
       "      <th>Contacts_Count_12_mon</th>\n",
       "      <th>Credit_Limit</th>\n",
       "      <th>Total_Revolving_Bal</th>\n",
       "      <th>Avg_Open_To_Buy</th>\n",
       "      <th>Total_Amt_Chng_Q4_Q1</th>\n",
       "      <th>Total_Trans_Amt</th>\n",
       "      <th>Total_Trans_Ct</th>\n",
       "      <th>Total_Ct_Chng_Q4_Q1</th>\n",
       "      <th>Avg_Utilization_Ratio</th>\n",
       "    </tr>\n",
       "  </thead>\n",
       "  <tbody>\n",
       "    <tr>\n",
       "      <th>0</th>\n",
       "      <td>0</td>\n",
       "      <td>45</td>\n",
       "      <td>M</td>\n",
       "      <td>3</td>\n",
       "      <td>High School</td>\n",
       "      <td>Married</td>\n",
       "      <td>$60K - $80K</td>\n",
       "      <td>Blue</td>\n",
       "      <td>39</td>\n",
       "      <td>5</td>\n",
       "      <td>1</td>\n",
       "      <td>3</td>\n",
       "      <td>12691.0</td>\n",
       "      <td>777</td>\n",
       "      <td>11914.0</td>\n",
       "      <td>1.335</td>\n",
       "      <td>1144</td>\n",
       "      <td>42</td>\n",
       "      <td>1.625</td>\n",
       "      <td>0.061</td>\n",
       "    </tr>\n",
       "    <tr>\n",
       "      <th>1</th>\n",
       "      <td>0</td>\n",
       "      <td>49</td>\n",
       "      <td>F</td>\n",
       "      <td>5</td>\n",
       "      <td>Graduate</td>\n",
       "      <td>Single</td>\n",
       "      <td>Less than $40K</td>\n",
       "      <td>Blue</td>\n",
       "      <td>44</td>\n",
       "      <td>6</td>\n",
       "      <td>1</td>\n",
       "      <td>2</td>\n",
       "      <td>8256.0</td>\n",
       "      <td>864</td>\n",
       "      <td>7392.0</td>\n",
       "      <td>1.541</td>\n",
       "      <td>1291</td>\n",
       "      <td>33</td>\n",
       "      <td>3.714</td>\n",
       "      <td>0.105</td>\n",
       "    </tr>\n",
       "    <tr>\n",
       "      <th>2</th>\n",
       "      <td>0</td>\n",
       "      <td>51</td>\n",
       "      <td>M</td>\n",
       "      <td>3</td>\n",
       "      <td>Graduate</td>\n",
       "      <td>Married</td>\n",
       "      <td>$80K - $120K</td>\n",
       "      <td>Blue</td>\n",
       "      <td>36</td>\n",
       "      <td>4</td>\n",
       "      <td>1</td>\n",
       "      <td>0</td>\n",
       "      <td>3418.0</td>\n",
       "      <td>0</td>\n",
       "      <td>3418.0</td>\n",
       "      <td>2.594</td>\n",
       "      <td>1887</td>\n",
       "      <td>20</td>\n",
       "      <td>2.333</td>\n",
       "      <td>0.000</td>\n",
       "    </tr>\n",
       "    <tr>\n",
       "      <th>3</th>\n",
       "      <td>0</td>\n",
       "      <td>40</td>\n",
       "      <td>F</td>\n",
       "      <td>4</td>\n",
       "      <td>High School</td>\n",
       "      <td>Unknown</td>\n",
       "      <td>Less than $40K</td>\n",
       "      <td>Blue</td>\n",
       "      <td>34</td>\n",
       "      <td>3</td>\n",
       "      <td>4</td>\n",
       "      <td>1</td>\n",
       "      <td>3313.0</td>\n",
       "      <td>2517</td>\n",
       "      <td>796.0</td>\n",
       "      <td>1.405</td>\n",
       "      <td>1171</td>\n",
       "      <td>20</td>\n",
       "      <td>2.333</td>\n",
       "      <td>0.760</td>\n",
       "    </tr>\n",
       "    <tr>\n",
       "      <th>4</th>\n",
       "      <td>0</td>\n",
       "      <td>40</td>\n",
       "      <td>M</td>\n",
       "      <td>3</td>\n",
       "      <td>Uneducated</td>\n",
       "      <td>Married</td>\n",
       "      <td>$60K - $80K</td>\n",
       "      <td>Blue</td>\n",
       "      <td>21</td>\n",
       "      <td>5</td>\n",
       "      <td>1</td>\n",
       "      <td>0</td>\n",
       "      <td>4716.0</td>\n",
       "      <td>0</td>\n",
       "      <td>4716.0</td>\n",
       "      <td>2.175</td>\n",
       "      <td>816</td>\n",
       "      <td>28</td>\n",
       "      <td>2.500</td>\n",
       "      <td>0.000</td>\n",
       "    </tr>\n",
       "  </tbody>\n",
       "</table>\n",
       "</div>"
      ],
      "text/plain": [
       "   Attrition_Flag  Customer_Age Gender  Dependent_count Education_Level  \\\n",
       "0               0            45      M                3     High School   \n",
       "1               0            49      F                5        Graduate   \n",
       "2               0            51      M                3        Graduate   \n",
       "3               0            40      F                4     High School   \n",
       "4               0            40      M                3      Uneducated   \n",
       "\n",
       "  Marital_Status Income_Category Card_Category  Months_on_book  \\\n",
       "0        Married     $60K - $80K          Blue              39   \n",
       "1         Single  Less than $40K          Blue              44   \n",
       "2        Married    $80K - $120K          Blue              36   \n",
       "3        Unknown  Less than $40K          Blue              34   \n",
       "4        Married     $60K - $80K          Blue              21   \n",
       "\n",
       "   Total_Relationship_Count  Months_Inactive_12_mon  Contacts_Count_12_mon  \\\n",
       "0                         5                       1                      3   \n",
       "1                         6                       1                      2   \n",
       "2                         4                       1                      0   \n",
       "3                         3                       4                      1   \n",
       "4                         5                       1                      0   \n",
       "\n",
       "   Credit_Limit  Total_Revolving_Bal  Avg_Open_To_Buy  Total_Amt_Chng_Q4_Q1  \\\n",
       "0       12691.0                  777          11914.0                 1.335   \n",
       "1        8256.0                  864           7392.0                 1.541   \n",
       "2        3418.0                    0           3418.0                 2.594   \n",
       "3        3313.0                 2517            796.0                 1.405   \n",
       "4        4716.0                    0           4716.0                 2.175   \n",
       "\n",
       "   Total_Trans_Amt  Total_Trans_Ct  Total_Ct_Chng_Q4_Q1  Avg_Utilization_Ratio  \n",
       "0             1144              42                1.625                  0.061  \n",
       "1             1291              33                3.714                  0.105  \n",
       "2             1887              20                2.333                  0.000  \n",
       "3             1171              20                2.333                  0.760  \n",
       "4              816              28                2.500                  0.000  "
      ]
     },
     "execution_count": 3,
     "metadata": {},
     "output_type": "execute_result"
    }
   ],
   "source": [
    "bank_data.head()"
   ]
  },
  {
   "cell_type": "markdown",
   "id": "a82008da",
   "metadata": {},
   "source": [
    "Check out the data type to prepare for the next pre-processing step."
   ]
  },
  {
   "cell_type": "code",
   "execution_count": 4,
   "id": "07fb11ad",
   "metadata": {},
   "outputs": [
    {
     "data": {
      "text/plain": [
       "Attrition_Flag                int64\n",
       "Customer_Age                  int64\n",
       "Gender                       object\n",
       "Dependent_count               int64\n",
       "Education_Level              object\n",
       "Marital_Status               object\n",
       "Income_Category              object\n",
       "Card_Category                object\n",
       "Months_on_book                int64\n",
       "Total_Relationship_Count      int64\n",
       "Months_Inactive_12_mon        int64\n",
       "Contacts_Count_12_mon         int64\n",
       "Credit_Limit                float64\n",
       "Total_Revolving_Bal           int64\n",
       "Avg_Open_To_Buy             float64\n",
       "Total_Amt_Chng_Q4_Q1        float64\n",
       "Total_Trans_Amt               int64\n",
       "Total_Trans_Ct                int64\n",
       "Total_Ct_Chng_Q4_Q1         float64\n",
       "Avg_Utilization_Ratio       float64\n",
       "dtype: object"
      ]
     },
     "execution_count": 4,
     "metadata": {},
     "output_type": "execute_result"
    }
   ],
   "source": [
    "bank_data.dtypes"
   ]
  },
  {
   "cell_type": "markdown",
   "id": "edb4dcdb",
   "metadata": {},
   "source": [
    "## Train-Test Split"
   ]
  },
  {
   "cell_type": "code",
   "execution_count": 5,
   "id": "19e67cbf",
   "metadata": {},
   "outputs": [],
   "source": [
    "X =bank_data.drop(columns=['Attrition_Flag'])\n",
    "y =bank_data.Attrition_Flag\n",
    "X_train, X_test, y_train, y_test = train_test_split(X, y, test_size=0.25, random_state=666,stratify=y)"
   ]
  },
  {
   "cell_type": "markdown",
   "id": "9da815c1",
   "metadata": {},
   "source": [
    "## Preorocessing"
   ]
  },
  {
   "cell_type": "markdown",
   "id": "8fb6da5f",
   "metadata": {},
   "source": [
    "This dataset includes both numerical and categorical features. Most machine learning algorithms require data to be on the same scale for them to be effective, so in here we use StandardSclaler to scale our numerical data. On the other hand, for categorical features, we use one-hot encoding to transform categorical data into numerical so that we can apply our Machine Learning algorithms without any problems."
   ]
  },
  {
   "cell_type": "code",
   "execution_count": 6,
   "id": "69488f4b",
   "metadata": {},
   "outputs": [],
   "source": [
    "num_ix = X.select_dtypes(include=['int64', 'float64']).columns\n",
    "cat_ix = X.select_dtypes(include=['object']).columns"
   ]
  },
  {
   "cell_type": "code",
   "execution_count": 7,
   "id": "9b984967",
   "metadata": {},
   "outputs": [],
   "source": [
    "col_transform = ColumnTransformer(transformers=[('cat', OneHotEncoder(), cat_ix), ('num', StandardScaler(), num_ix)])"
   ]
  },
  {
   "cell_type": "markdown",
   "id": "5c38e56f",
   "metadata": {},
   "source": [
    "## Resampling"
   ]
  },
  {
   "cell_type": "markdown",
   "id": "1d4c799d",
   "metadata": {},
   "source": [
    "According to EDA we know that this is an imbanlanced dataset, the minority class accounts for 16.1%. A widely adopted technique for dealing with highly unbalanced datasets is called resampling. In here we are introducing oversampling this technique to resample our data later."
   ]
  },
  {
   "cell_type": "code",
   "execution_count": 8,
   "id": "20d35323",
   "metadata": {},
   "outputs": [],
   "source": [
    "over_sampling=SMOTE()"
   ]
  },
  {
   "cell_type": "markdown",
   "id": "0cfcc28e",
   "metadata": {},
   "source": [
    "## Model Selection"
   ]
  },
  {
   "cell_type": "markdown",
   "id": "3902fc5a",
   "metadata": {},
   "source": [
    "We are going to try the following algorithms for our model. Among them, Logistic Regression is gradient descent based algorithm, Random Forest and XGBoost are tree-based, SVM and KNN are distance-based.\n",
    "1. Logistic Regression\n",
    "2. Random Forest\n",
    "3. XGBoost\n",
    "4. KNN\n",
    "5. SVM with linear kernel\n",
    "6. SVM with RBF kernel "
   ]
  },
  {
   "cell_type": "markdown",
   "id": "9a1cb604",
   "metadata": {},
   "source": [
    "At the same time, we will apply Stratified K-Fold Cross Validation on our training data to estimate the skill of our machine learning models."
   ]
  },
  {
   "cell_type": "markdown",
   "id": "81dcd9be",
   "metadata": {},
   "source": [
    "### Logistic Regression"
   ]
  },
  {
   "cell_type": "code",
   "execution_count": 9,
   "id": "7e22a938",
   "metadata": {},
   "outputs": [],
   "source": [
    "LR_pipe = Pipeline(steps=[('preprocessor', col_transform),('oversampling',over_sampling),('LR_model', LogisticRegression(max_iter=500))])"
   ]
  },
  {
   "cell_type": "code",
   "execution_count": 10,
   "id": "d1cce217",
   "metadata": {},
   "outputs": [
    {
     "name": "stdout",
     "output_type": "stream",
     "text": [
      "Logistic Regression cross validation roc_auc : 0.926304725168756\n",
      "Logistic Regression cross validation f1 : 0.6452385035723862\n",
      "Logistic Regression cross validation precision : 0.5231715402098269\n",
      "Logistic Regression cross validation recall : 0.8385245901639344\n",
      "Logistic Regression cross validation accuracy : 0.8529295589203423\n"
     ]
    }
   ],
   "source": [
    "for score in [\"roc_auc\", \"f1\", \"precision\", \"recall\", \"accuracy\"]:\n",
    "    cvs = cross_val_score(LR_pipe, X_train, y_train,  scoring=score, cv=5,n_jobs=-1).mean()\n",
    "    print(\"Logistic Regression cross validation\", score + \" : \"+ str(cvs))\n",
    "    "
   ]
  },
  {
   "cell_type": "markdown",
   "id": "23de5bbc",
   "metadata": {},
   "source": [
    "### Random Forest"
   ]
  },
  {
   "cell_type": "code",
   "execution_count": 11,
   "id": "fa42d448",
   "metadata": {},
   "outputs": [],
   "source": [
    "RF_pipe= Pipeline(steps=[('preprocessor', col_transform), ('oversampling',over_sampling),('RF_model', RandomForestClassifier())])"
   ]
  },
  {
   "cell_type": "code",
   "execution_count": 12,
   "id": "8ad68ad5",
   "metadata": {},
   "outputs": [
    {
     "name": "stdout",
     "output_type": "stream",
     "text": [
      "Random Forest cross validation roc_auc : 0.9848807457409194\n",
      "Random Forest cross validation f1 : 0.8507769601666922\n",
      "Random Forest cross validation precision : 0.8678245817046036\n",
      "Random Forest cross validation recall : 0.8401639344262295\n",
      "Random Forest cross validation accuracy : 0.9545753785385122\n"
     ]
    }
   ],
   "source": [
    "for score in [\"roc_auc\", \"f1\", \"precision\", \"recall\", \"accuracy\"]:\n",
    "    cvs = cross_val_score(RF_pipe, X_train, y_train,  scoring=score, cv=5,n_jobs=-1).mean()\n",
    "    print(\"Random Forest cross validation\", score + \" : \"+ str(cvs))"
   ]
  },
  {
   "cell_type": "markdown",
   "id": "f77102f4",
   "metadata": {},
   "source": [
    "### XGBoost"
   ]
  },
  {
   "cell_type": "code",
   "execution_count": 13,
   "id": "535ddd77",
   "metadata": {},
   "outputs": [],
   "source": [
    "XGB_pipe= Pipeline(steps=[('preprocessor', col_transform),('oversampling',over_sampling), ('XGB_model', XGBClassifier())])"
   ]
  },
  {
   "cell_type": "code",
   "execution_count": 14,
   "id": "150b060c",
   "metadata": {},
   "outputs": [
    {
     "name": "stdout",
     "output_type": "stream",
     "text": [
      "XGBoost cross validation roc_auc : 0.9910684667309546\n",
      "XGBoost cross validation f1 : 0.9045067967361271\n",
      "XGBoost cross validation precision : 0.9091208042163856\n",
      "XGBoost cross validation recall : 0.8926229508196721\n",
      "XGBoost cross validation accuracy : 0.9681369321922316\n"
     ]
    }
   ],
   "source": [
    "for score in [\"roc_auc\", \"f1\", \"precision\", \"recall\", \"accuracy\"]:\n",
    "    cvs = cross_val_score(XGB_pipe, X_train, y_train,  scoring=score, cv=5,n_jobs=-1).mean()\n",
    "    print(\"XGBoost cross validation\", score + \" : \"+ str(cvs))"
   ]
  },
  {
   "cell_type": "markdown",
   "id": "176d091d",
   "metadata": {},
   "source": [
    "### KNN"
   ]
  },
  {
   "cell_type": "code",
   "execution_count": 15,
   "id": "ea1f088c",
   "metadata": {},
   "outputs": [],
   "source": [
    "KNN_pipe= Pipeline(steps=[('preprocessor', col_transform),('oversampling',over_sampling), ('KNN_model', KNeighborsClassifier(n_neighbors=8))])"
   ]
  },
  {
   "cell_type": "code",
   "execution_count": 16,
   "id": "adea37fd",
   "metadata": {},
   "outputs": [
    {
     "name": "stdout",
     "output_type": "stream",
     "text": [
      "KNN cross validation roc_auc : 0.9258026358084216\n",
      "KNN cross validation f1 : 0.6675607159773402\n",
      "KNN cross validation precision : 0.5505500682968589\n",
      "KNN cross validation recall : 0.8508196721311474\n",
      "KNN cross validation accuracy : 0.8578011849901251\n"
     ]
    }
   ],
   "source": [
    "for score in [\"roc_auc\", \"f1\", \"precision\", \"recall\", \"accuracy\"]:\n",
    "    cvs = cross_val_score(KNN_pipe, X_train, y_train,  scoring=score, cv=5,n_jobs=-1).mean()\n",
    "    print(\"KNN cross validation\", score + \" : \"+ str(cvs))"
   ]
  },
  {
   "cell_type": "markdown",
   "id": "a1dd8a28",
   "metadata": {},
   "source": [
    "### SVM with linear kernel"
   ]
  },
  {
   "cell_type": "code",
   "execution_count": 17,
   "id": "05d89fd8",
   "metadata": {},
   "outputs": [],
   "source": [
    "SVMlnr_pipe= Pipeline(steps=[('preprocessor', col_transform),('oversampling',over_sampling), ('SVMlnr', SVC(kernel=\"linear\", C=1))])"
   ]
  },
  {
   "cell_type": "code",
   "execution_count": 18,
   "id": "0615d807",
   "metadata": {},
   "outputs": [
    {
     "name": "stdout",
     "output_type": "stream",
     "text": [
      "SVM with linear kernel cross validation roc_auc : 0.9254586949533913\n",
      "SVM with linear kernel cross validation f1 : 0.6449878406146652\n",
      "SVM with linear kernel cross validation precision : 0.5176421534919167\n",
      "SVM with linear kernel cross validation recall : 0.840983606557377\n",
      "SVM with linear kernel cross validation accuracy : 0.8510862409479921\n"
     ]
    }
   ],
   "source": [
    "for score in [\"roc_auc\", \"f1\", \"precision\", \"recall\", \"accuracy\"]:\n",
    "    cvs = cross_val_score(SVMlnr_pipe, X_train, y_train,  scoring=score, cv=5,n_jobs=-1).mean()\n",
    "    print(\"SVM with linear kernel cross validation\", score + \" : \"+ str(cvs))"
   ]
  },
  {
   "cell_type": "markdown",
   "id": "20b212fe",
   "metadata": {},
   "source": [
    "### SVM with RBF kernel"
   ]
  },
  {
   "cell_type": "code",
   "execution_count": 19,
   "id": "d2fc03f1",
   "metadata": {},
   "outputs": [],
   "source": [
    "SVMrbf_pipe= Pipeline(steps=[('preprocessor', col_transform),('oversampling',over_sampling), ('SVMrbf', SVC(kernel=\"rbf\"))])"
   ]
  },
  {
   "cell_type": "code",
   "execution_count": 20,
   "id": "c48d443b",
   "metadata": {},
   "outputs": [
    {
     "name": "stdout",
     "output_type": "stream",
     "text": [
      "SVM with RBF kernel cross validation roc_auc : 0.963908068145291\n",
      "SVM with RBF kernel cross validation f1 : 0.7799963083183284\n",
      "SVM with RBF kernel cross validation precision : 0.7209579551892292\n",
      "SVM with RBF kernel cross validation recall : 0.85\n",
      "SVM with RBF kernel cross validation accuracy : 0.9227123107307438\n"
     ]
    }
   ],
   "source": [
    "for score in [\"roc_auc\", \"f1\", \"precision\", \"recall\", \"accuracy\"]:\n",
    "    cvs = cross_val_score(SVMrbf_pipe, X_train, y_train,  scoring=score, cv=5,n_jobs=-1).mean()\n",
    "    print(\"SVM with RBF kernel cross validation\", score + \" : \"+ str(cvs))"
   ]
  },
  {
   "cell_type": "markdown",
   "id": "3e098542",
   "metadata": {},
   "source": [
    "Based on the scores of all models, we find that XGBoost performs the best. Next we are going to tune the XGBoost model to find the optimal values of hyperparameters and maximize the model performance."
   ]
  },
  {
   "cell_type": "markdown",
   "id": "a3a8da8c",
   "metadata": {},
   "source": [
    "## Model Tuning"
   ]
  },
  {
   "cell_type": "markdown",
   "id": "7f42497a",
   "metadata": {},
   "source": [
    "We choose Bayesian Optimization to tune the model. For XGBoost, we are going to tune the following parameters:<br>\n",
    "max_depth: Maximum depth of a tree. <br>\n",
    "gamma: Minimum loss reduction required to make a further partition on a leaf node of the tree. <br>\n",
    "min_child_weight: Minimum sum of instance weight (hessian) needed in a child. <br>\n",
    "learning_rate: Step size shrinkage used in update to prevents overfitting. <br>\n",
    "n_estimators: The number of runs XGBoost will try to learn.<br>"
   ]
  },
  {
   "cell_type": "code",
   "execution_count": 21,
   "id": "9288e152",
   "metadata": {},
   "outputs": [],
   "source": [
    "XGB_space = {'XGB_model__max_depth': (3,10), \n",
    "             'XGB_model__gamma': (0,5),\n",
    "             'XGB_model__min_child_weight':(0.5,1), \n",
    "             'XGB_model__learning_rate':(0.01,1),\n",
    "             'XGB_model__n_estimators':(100,500)}"
   ]
  },
  {
   "cell_type": "code",
   "execution_count": 22,
   "id": "e03e1d84",
   "metadata": {},
   "outputs": [],
   "source": [
    "XGB_search = BayesSearchCV( estimator=XGB_pipe,search_spaces=XGB_space,n_iter = 10,n_jobs=-1,cv=5, scoring='recall',\n",
    "     verbose = 0)"
   ]
  },
  {
   "cell_type": "code",
   "execution_count": 23,
   "id": "5679fc6a",
   "metadata": {},
   "outputs": [
    {
     "data": {
      "text/plain": [
       "BayesSearchCV(cv=5,\n",
       "              estimator=Pipeline(steps=[('preprocessor',\n",
       "                                         ColumnTransformer(transformers=[('cat',\n",
       "                                                                          OneHotEncoder(),\n",
       "                                                                          Index(['Gender', 'Education_Level', 'Marital_Status', 'Income_Category',\n",
       "       'Card_Category'],\n",
       "      dtype='object')),\n",
       "                                                                         ('num',\n",
       "                                                                          StandardScaler(),\n",
       "                                                                          Index(['Customer_Age', 'Dependent_count', 'Months_on_book',\n",
       "       'Total_Relationship_Count', 'Months_Inactive_12_mon...\n",
       "                                                       min_child_weight=None,\n",
       "                                                       missing=nan,\n",
       "                                                       monotone_constraints=None,\n",
       "                                                       n_estimators=100,\n",
       "                                                       n_jobs=None,\n",
       "                                                       num_parallel_tree=None,\n",
       "                                                       predictor=None,\n",
       "                                                       random_state=None, ...))]),\n",
       "              n_iter=10, n_jobs=-1, scoring='recall',\n",
       "              search_spaces={'XGB_model__gamma': (0, 5),\n",
       "                             'XGB_model__learning_rate': (0.01, 1),\n",
       "                             'XGB_model__max_depth': (3, 10),\n",
       "                             'XGB_model__min_child_weight': (0.5, 1),\n",
       "                             'XGB_model__n_estimators': (100, 500)})"
      ]
     },
     "execution_count": 23,
     "metadata": {},
     "output_type": "execute_result"
    }
   ],
   "source": [
    "XGB_search.fit(X_train, y_train)\n"
   ]
  },
  {
   "cell_type": "code",
   "execution_count": 24,
   "id": "c480ef7e",
   "metadata": {},
   "outputs": [
    {
     "name": "stdout",
     "output_type": "stream",
     "text": [
      "0.9000000000000001\n",
      "OrderedDict([('XGB_model__gamma', 5), ('XGB_model__learning_rate', 0.73183237565908), ('XGB_model__max_depth', 7), ('XGB_model__min_child_weight', 0.7517848198520114), ('XGB_model__n_estimators', 142)])\n"
     ]
    }
   ],
   "source": [
    "print(XGB_search.best_score_)\n",
    "print(XGB_search.best_params_)"
   ]
  },
  {
   "cell_type": "code",
   "execution_count": 25,
   "id": "ab61ed2e",
   "metadata": {},
   "outputs": [],
   "source": [
    "XGB_tuned= XGB_search.best_estimator_"
   ]
  },
  {
   "cell_type": "code",
   "execution_count": 26,
   "id": "0149c884",
   "metadata": {},
   "outputs": [
    {
     "name": "stdout",
     "output_type": "stream",
     "text": [
      "              precision    recall  f1-score   support\n",
      "\n",
      "           0       0.98      0.98      0.98      2125\n",
      "           1       0.88      0.88      0.88       407\n",
      "\n",
      "    accuracy                           0.96      2532\n",
      "   macro avg       0.93      0.93      0.93      2532\n",
      "weighted avg       0.96      0.96      0.96      2532\n",
      "\n"
     ]
    }
   ],
   "source": [
    "print(classification_report(y_test, XGB_tuned.predict(X_test)))"
   ]
  },
  {
   "cell_type": "markdown",
   "id": "c1e5477d",
   "metadata": {},
   "source": [
    "## Feature Importance"
   ]
  },
  {
   "cell_type": "code",
   "execution_count": 27,
   "id": "2b5c34ad",
   "metadata": {},
   "outputs": [],
   "source": [
    "onehot=pd.DataFrame(bank_data.drop(bank_data[cat_ix],axis =1)).merge(pd.get_dummies(bank_data[cat_ix]),left_index=True,right_index=True)\n",
    "features=onehot.drop(columns=['Attrition_Flag'])"
   ]
  },
  {
   "cell_type": "code",
   "execution_count": 28,
   "id": "30f12292",
   "metadata": {},
   "outputs": [
    {
     "data": {
      "image/png": "[encoded data removed]",
      "text/plain": [
       "<Figure size 1000x800 with 1 Axes>"
      ]
     },
     "metadata": {},
     "output_type": "display_data"
    }
   ],
   "source": [
    "feature_importance=pd.DataFrame(XGB_search.best_estimator_[2].feature_importances_, columns=['importance'])\n",
    "feature_importance['features'] =features.columns\n",
    "plt.figure(figsize=(10,8))\n",
    "sns.barplot(x='importance', y='features', data=feature_importance.sort_values(by='importance', ascending=False))\n",
    "plt.title('Feature importances')\n",
    "plt.show()"
   ]
  },
  {
   "cell_type": "code",
   "execution_count": null,
   "id": "27133e81",
   "metadata": {},
   "outputs": [],
   "source": []
  },
  {
   "cell_type": "code",
   "execution_count": null,
   "id": "6b9ce8df",
   "metadata": {},
   "outputs": [],
   "source": []
  }
 ],
 "metadata": {
  "kernelspec": {
   "display_name": "Python 3 (ipykernel)",
   "language": "python",
   "name": "python3"
  },
  "language_info": {
   "codemirror_mode": {
    "name": "ipython",
    "version": 3
   },
   "file_extension": ".py",
   "mimetype": "text/x-python",
   "name": "python",
   "nbconvert_exporter": "python",
   "pygments_lexer": "ipython3",
   "version": "3.9.13"
  }
 },
 "nbformat": 4,
 "nbformat_minor": 5
}
